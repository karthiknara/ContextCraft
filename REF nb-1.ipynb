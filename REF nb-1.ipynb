{
 "cells": [
  {
   "cell_type": "markdown",
   "metadata": {},
   "source": [
    "# Homework 3: Text Classification"
   ]
  },
  {
   "cell_type": "markdown",
   "metadata": {},
   "source": [
    "<div class=\"alert alert-block alert-warning\">Each assignment needs to be completed independently. Never ever copy others' work (even with minor modification, e.g. changing variable names). Anti-Plagiarism software will be used to check all submissions. </div>"
   ]
  },
  {
   "cell_type": "markdown",
   "metadata": {
    "jp-MarkdownHeadingCollapsed": true,
    "tags": []
   },
   "source": [
    "## Objectives:\n",
    "\n",
    "- Learn to use pretrained word vectors\n",
    "- Use CNN for text classification\n",
    "- Use RNN for text classification\n"
   ]
  },
  {
   "cell_type": "markdown",
   "metadata": {},
   "source": [
    "## Instructions\n",
    "\n",
    "\n",
    "- Check lab `CNN for text classification` and `RNN` lab before you start working on this assignment. These labs should give you a good starting point.\n",
    "- Please complete all questions using Jupyter Notebook.\n",
    "- Please answer all analysis questions using Jupyter Notebook Markdowns or in a separate pdf file (if you don't know how to write Markdowns).\n",
    "- Please run your Jupyter Notebook to get all training histories and plots, save the notebook to pdf file, and sumbit the pdf file along with the Jupyter Notebook\n"
   ]
  },
  {
   "cell_type": "code",
   "execution_count": null,
   "metadata": {},
   "outputs": [],
   "source": [
    "#! pip install torchinfo"
   ]
  },
  {
   "cell_type": "code",
   "execution_count": null,
   "metadata": {},
   "outputs": [],
   "source": [
    "import pandas as pd\n",
    "\n",
    "# add your import statement"
   ]
  },
  {
   "cell_type": "markdown",
   "metadata": {},
   "source": [
    "## Q1: CNN for Text Classification"
   ]
  },
  {
   "cell_type": "markdown",
   "metadata": {},
   "source": [
    "In this task, we'll use CNN to detect emotion from text. The dataset is taken from https://www.kaggle.com/datasets/ishantjuyal/emotions-in-text.\n",
    "\n",
    "\n",
    "The following scripts show you how to load the data and split the samples into training, evaluation, and test."
   ]
  },
  {
   "cell_type": "markdown",
   "metadata": {},
   "source": [
    "### Load Data"
   ]
  },
  {
   "cell_type": "code",
   "execution_count": 4,
   "metadata": {},
   "outputs": [],
   "source": [
    "import pandas as pd\n",
    "from sklearn.utils import shuffle\n"
   ]
  },
  {
   "cell_type": "code",
   "execution_count": 5,
   "metadata": {},
   "outputs": [
    {
     "data": {
      "text/html": [
       "<div>\n",
       "<style scoped>\n",
       "    .dataframe tbody tr th:only-of-type {\n",
       "        vertical-align: middle;\n",
       "    }\n",
       "\n",
       "    .dataframe tbody tr th {\n",
       "        vertical-align: top;\n",
       "    }\n",
       "\n",
       "    .dataframe thead th {\n",
       "        text-align: right;\n",
       "    }\n",
       "</style>\n",
       "<table border=\"1\" class=\"dataframe\">\n",
       "  <thead>\n",
       "    <tr style=\"text-align: right;\">\n",
       "      <th></th>\n",
       "      <th>Text</th>\n",
       "      <th>Emotion</th>\n",
       "    </tr>\n",
       "  </thead>\n",
       "  <tbody>\n",
       "    <tr>\n",
       "      <th>0</th>\n",
       "      <td>i didnt feel humiliated</td>\n",
       "      <td>sadness</td>\n",
       "    </tr>\n",
       "    <tr>\n",
       "      <th>1</th>\n",
       "      <td>i can go from feeling so hopeless to so damned...</td>\n",
       "      <td>sadness</td>\n",
       "    </tr>\n",
       "    <tr>\n",
       "      <th>2</th>\n",
       "      <td>im grabbing a minute to post i feel greedy wrong</td>\n",
       "      <td>anger</td>\n",
       "    </tr>\n",
       "    <tr>\n",
       "      <th>3</th>\n",
       "      <td>i am ever feeling nostalgic about the fireplac...</td>\n",
       "      <td>love</td>\n",
       "    </tr>\n",
       "    <tr>\n",
       "      <th>4</th>\n",
       "      <td>i am feeling grouchy</td>\n",
       "      <td>anger</td>\n",
       "    </tr>\n",
       "  </tbody>\n",
       "</table>\n",
       "</div>"
      ],
      "text/plain": [
       "                                                Text  Emotion\n",
       "0                            i didnt feel humiliated  sadness\n",
       "1  i can go from feeling so hopeless to so damned...  sadness\n",
       "2   im grabbing a minute to post i feel greedy wrong    anger\n",
       "3  i am ever feeling nostalgic about the fireplac...     love\n",
       "4                               i am feeling grouchy    anger"
      ]
     },
     "execution_count": 5,
     "metadata": {},
     "output_type": "execute_result"
    },
    {
     "data": {
      "text/plain": [
       "21459"
      ]
     },
     "execution_count": 5,
     "metadata": {},
     "output_type": "execute_result"
    }
   ],
   "source": [
    "data = pd.read_csv(\"Emotion_final.csv\")\n",
    "data.head()\n",
    "len(data)\n",
    "\n",
    "data = shuffle(data)"
   ]
  },
  {
   "cell_type": "code",
   "execution_count": 6,
   "metadata": {},
   "outputs": [
    {
     "data": {
      "text/html": [
       "<div>\n",
       "<style scoped>\n",
       "    .dataframe tbody tr th:only-of-type {\n",
       "        vertical-align: middle;\n",
       "    }\n",
       "\n",
       "    .dataframe tbody tr th {\n",
       "        vertical-align: top;\n",
       "    }\n",
       "\n",
       "    .dataframe thead th {\n",
       "        text-align: right;\n",
       "    }\n",
       "</style>\n",
       "<table border=\"1\" class=\"dataframe\">\n",
       "  <thead>\n",
       "    <tr style=\"text-align: right;\">\n",
       "      <th></th>\n",
       "      <th>Text</th>\n",
       "      <th>Emotion</th>\n",
       "      <th>label</th>\n",
       "    </tr>\n",
       "  </thead>\n",
       "  <tbody>\n",
       "    <tr>\n",
       "      <th>5829</th>\n",
       "      <td>i just didn t end feeling satisfied</td>\n",
       "      <td>happy</td>\n",
       "      <td>1</td>\n",
       "    </tr>\n",
       "    <tr>\n",
       "      <th>9620</th>\n",
       "      <td>i honestly feel a bit pressured she just made ...</td>\n",
       "      <td>fear</td>\n",
       "      <td>0</td>\n",
       "    </tr>\n",
       "    <tr>\n",
       "      <th>2271</th>\n",
       "      <td>i feel if not resolved soon enough will have a...</td>\n",
       "      <td>happy</td>\n",
       "      <td>1</td>\n",
       "    </tr>\n",
       "    <tr>\n",
       "      <th>3847</th>\n",
       "      <td>i was just yesterday feeling uncomfortable wit...</td>\n",
       "      <td>fear</td>\n",
       "      <td>0</td>\n",
       "    </tr>\n",
       "    <tr>\n",
       "      <th>16121</th>\n",
       "      <td>made a wonderfull new friend</td>\n",
       "      <td>happy</td>\n",
       "      <td>1</td>\n",
       "    </tr>\n",
       "  </tbody>\n",
       "</table>\n",
       "</div>"
      ],
      "text/plain": [
       "                                                    Text Emotion  label\n",
       "5829                 i just didn t end feeling satisfied   happy      1\n",
       "9620   i honestly feel a bit pressured she just made ...    fear      0\n",
       "2271   i feel if not resolved soon enough will have a...   happy      1\n",
       "3847   i was just yesterday feeling uncomfortable wit...    fear      0\n",
       "16121                       made a wonderfull new friend   happy      1"
      ]
     },
     "execution_count": 6,
     "metadata": {},
     "output_type": "execute_result"
    },
    {
     "data": {
      "text/plain": [
       "label\n",
       "1    7029\n",
       "4    6265\n",
       "2    2993\n",
       "0    2652\n",
       "5    1641\n",
       "3     879\n",
       "Name: count, dtype: int64"
      ]
     },
     "execution_count": 6,
     "metadata": {},
     "output_type": "execute_result"
    }
   ],
   "source": [
    "# Map text label to numbers\n",
    "\n",
    "label_map = {'fear':0, 'happy':1, 'anger':2, 'surprise':3, 'sadness':4, 'love':5}\n",
    "data[\"label\"] = data.Emotion.apply(lambda x: label_map[x])\n",
    "data.head()\n",
    "data.label.value_counts()"
   ]
  },
  {
   "cell_type": "code",
   "execution_count": 7,
   "metadata": {},
   "outputs": [],
   "source": [
    "# Split dataset into training, evaluation, and test\n",
    "\n",
    "train_data = data.iloc[0: 15000]\n",
    "eval_data = data.iloc[15000: 18000]\n",
    "test_data = data.iloc[18000: ]"
   ]
  },
  {
   "cell_type": "markdown",
   "metadata": {},
   "source": [
    "### 1.1. Preprocess Text"
   ]
  },
  {
   "cell_type": "markdown",
   "metadata": {},
   "source": [
    "Write a function `preprocess(train_data, eval_data, test_data)` to convert the three sample subsets into three datasets so that you can use it for model fitting. \n",
    "- This function has the three sample subsets as inputs\n",
    "- During preprocessing, do the following:\n",
    "    1. Tokenize each document into words\n",
    "    1. Map every unique word in the vocabulary into an index (i.e. `word index`)\n",
    "    1. Convert each document into a sequence of word indexes with uniform length by padding short ones and truncating long ones.\n",
    "    1. Create Torch datasets for the subsets that can be directly used for training\n",
    "- Return the datasets and also the word-index dictionary \n",
    "\n",
    "\n",
    "When you preprocess the text, `carefully explain how you choose the following hyperparameters`:\n",
    "- Vocabulary size (i.e. the total number of words)\n",
    "- Maximum sentence length\n",
    "\n",
    "\n",
    "Feel free to use Keras pacakage to process text (https://www.tensorflow.org/api_docs/python/tf/keras/preprocessing/text/Tokenizer)"
   ]
  },
  {
   "cell_type": "code",
   "execution_count": 9,
   "metadata": {},
   "outputs": [],
   "source": [
    "class Emotion_dataset(Dataset):\n",
    "   \n",
    "    # Add your code\n"
   ]
  },
  {
   "cell_type": "code",
   "execution_count": 24,
   "metadata": {},
   "outputs": [],
   "source": [
    "def preprocess(train_data, eval_data, test_data, {any other arguments you need}):\n",
    "    \n",
    "    # Add your code to transform data into datasets\n",
    "    \n",
    "    return train_dataset, eval_dataset, test_dataset"
   ]
  },
  {
   "cell_type": "markdown",
   "metadata": {},
   "source": [
    "### 1.2. Model"
   ]
  },
  {
   "cell_type": "markdown",
   "metadata": {},
   "source": [
    "Define a CNN model for this classification task. You model should provide options to configure  Convolution layer:\n",
    "- Number of filters\n",
    "- Filter sizes\n"
   ]
  },
  {
   "cell_type": "code",
   "execution_count": 39,
   "metadata": {},
   "outputs": [],
   "source": [
    "class cnn_text(nn.Module):\n",
    "\n",
    "    # add your code to define the model"
   ]
  },
  {
   "cell_type": "markdown",
   "metadata": {},
   "source": [
    "### 1.3. Train"
   ]
  },
  {
   "cell_type": "markdown",
   "metadata": {},
   "source": [
    "First, carefully choose the hyperparameters for convolution layers. You can reuse the training function to train the model. \n",
    "\n",
    "Notice that you have an imbalanced dataset. To understand which classes underperform, modify the training function to print out a classification report which display the precision, recall, and f1 for each class (see function https://scikit-learn.org/stable/modules/generated/sklearn.metrics.classification_report.html).\n",
    "\n",
    "\n",
    "If your models are properly configured, `your test macro F1 should be around 85%`. "
   ]
  },
  {
   "cell_type": "code",
   "execution_count": 64,
   "metadata": {},
   "outputs": [],
   "source": [
    "\n",
    "def train_model(model, train_dataset, eval_dataset, test_dataset, device, \n",
    "                optimizer, epochs=30, batch_size=64):\n",
    "    \n",
    "   # add your code to train model and test model"
   ]
  },
  {
   "cell_type": "code",
   "execution_count": 67,
   "metadata": {},
   "outputs": [
    {
     "name": "stdout",
     "output_type": "stream",
     "text": [
      "Training Start\n",
      "Epoch:1 / 100, train loss:1.6688,        train_acc:0.3164, valid loss:1.5239 valid acc:0.4106\n",
      "model saved!\n",
      "Epoch:2 / 100, train loss:1.5281,        train_acc:0.3894, valid loss:1.4637 valid acc:0.4506\n",
      "model saved!\n",
      "Epoch:3 / 100, train loss:1.4348,        train_acc:0.4377, valid loss:1.3646 valid acc:0.4996\n",
      "model saved!\n",
      "Epoch:4 / 100, train loss:1.2873,        train_acc:0.5140, valid loss:1.2003 valid acc:0.5607\n",
      "model saved!\n",
      "Epoch:5 / 100, train loss:1.0981,        train_acc:0.5982, valid loss:0.9693 valid acc:0.6645\n",
      "model saved!\n",
      "Epoch:6 / 100, train loss:0.8929,        train_acc:0.6848, valid loss:0.7685 valid acc:0.7355\n",
      "model saved!\n",
      "Epoch:7 / 100, train loss:0.6996,        train_acc:0.7590, valid loss:0.5981 valid acc:0.7971\n",
      "model saved!\n",
      "Epoch:8 / 100, train loss:0.5565,        train_acc:0.8087, valid loss:0.4908 valid acc:0.8331\n",
      "model saved!\n",
      "Epoch:9 / 100, train loss:0.4495,        train_acc:0.8491, valid loss:0.4218 valid acc:0.8497\n",
      "model saved!\n",
      "Epoch:10 / 100, train loss:0.3797,        train_acc:0.8692, valid loss:0.3770 valid acc:0.8687\n",
      "model saved!\n",
      "Epoch:11 / 100, train loss:0.3203,        train_acc:0.8896, valid loss:0.3533 valid acc:0.8731\n",
      "model saved!\n",
      "Epoch:12 / 100, train loss:0.2805,        train_acc:0.9063, valid loss:0.3202 valid acc:0.8834\n",
      "model saved!\n",
      "Epoch:13 / 100, train loss:0.2394,        train_acc:0.9196, valid loss:0.3036 valid acc:0.8884\n",
      "model saved!\n",
      "Epoch:14 / 100, train loss:0.2128,        train_acc:0.9275, valid loss:0.2930 valid acc:0.8928\n",
      "model saved!\n",
      "Epoch:15 / 100, train loss:0.1897,        train_acc:0.9380, valid loss:0.2884 valid acc:0.8938\n",
      "model saved!\n",
      "Epoch:16 / 100, train loss:0.1695,        train_acc:0.9430, valid loss:0.2799 valid acc:0.9024\n",
      "model saved!\n",
      "Epoch:17 / 100, train loss:0.1494,        train_acc:0.9489, valid loss:0.2728 valid acc:0.9027\n",
      "model saved!\n",
      "Epoch:18 / 100, train loss:0.1361,        train_acc:0.9556, valid loss:0.2787 valid acc:0.8994\n",
      "Epoch:19 / 100, train loss:0.1309,        train_acc:0.9577, valid loss:0.2742 valid acc:0.9024\n",
      "Epoch:20 / 100, train loss:0.1153,        train_acc:0.9635, valid loss:0.2748 valid acc:0.9017\n",
      "Epoch:21 / 100, train loss:0.1041,        train_acc:0.9668, valid loss:0.2750 valid acc:0.9031\n",
      "model saved!\n",
      "Epoch:22 / 100, train loss:0.1007,        train_acc:0.9682, valid loss:0.2777 valid acc:0.9031\n",
      "Epoch:23 / 100, train loss:0.0889,        train_acc:0.9712, valid loss:0.2788 valid acc:0.9051\n",
      "model saved!\n",
      "Epoch:24 / 100, train loss:0.0799,        train_acc:0.9736, valid loss:0.2835 valid acc:0.9044\n",
      "Epoch:25 / 100, train loss:0.0735,        train_acc:0.9766, valid loss:0.2873 valid acc:0.9057\n",
      "model saved!\n",
      "Epoch:26 / 100, train loss:0.0715,        train_acc:0.9768, valid loss:0.2936 valid acc:0.9047\n",
      "Epoch:27 / 100, train loss:0.0663,        train_acc:0.9792, valid loss:0.2920 valid acc:0.9084\n",
      "model saved!\n",
      "Epoch:28 / 100, train loss:0.0633,        train_acc:0.9803, valid loss:0.2943 valid acc:0.9067\n",
      "Epoch:29 / 100, train loss:0.0601,        train_acc:0.9801, valid loss:0.2974 valid acc:0.9071\n",
      "Epoch:30 / 100, train loss:0.0509,        train_acc:0.9856, valid loss:0.2957 valid acc:0.9110\n",
      "model saved!\n",
      "Epoch:31 / 100, train loss:0.0552,        train_acc:0.9830, valid loss:0.3002 valid acc:0.9087\n",
      "Epoch:32 / 100, train loss:0.0519,        train_acc:0.9837, valid loss:0.3059 valid acc:0.9091\n",
      "Epoch:33 / 100, train loss:0.0470,        train_acc:0.9859, valid loss:0.3091 valid acc:0.9091\n",
      "Epoch:34 / 100, train loss:0.0470,        train_acc:0.9855, valid loss:0.3072 valid acc:0.9114\n",
      "model saved!\n",
      "Epoch:35 / 100, train loss:0.0450,        train_acc:0.9867, valid loss:0.3122 valid acc:0.9087\n",
      "Epoch:36 / 100, train loss:0.0409,        train_acc:0.9877, valid loss:0.3173 valid acc:0.9097\n",
      "Epoch:37 / 100, train loss:0.0370,        train_acc:0.9880, valid loss:0.3250 valid acc:0.9120\n",
      "model saved!\n",
      "Epoch:38 / 100, train loss:0.0361,        train_acc:0.9895, valid loss:0.3238 valid acc:0.9110\n",
      "Epoch:39 / 100, train loss:0.0388,        train_acc:0.9878, valid loss:0.3304 valid acc:0.9061\n",
      "Epoch:40 / 100, train loss:0.0351,        train_acc:0.9892, valid loss:0.3275 valid acc:0.9107\n",
      "Epoch:41 / 100, train loss:0.0319,        train_acc:0.9902, valid loss:0.3321 valid acc:0.9130\n",
      "model saved!\n",
      "Epoch:42 / 100, train loss:0.0308,        train_acc:0.9905, valid loss:0.3426 valid acc:0.9110\n",
      "Epoch:43 / 100, train loss:0.0308,        train_acc:0.9912, valid loss:0.3393 valid acc:0.9104\n",
      "Epoch:44 / 100, train loss:0.0291,        train_acc:0.9908, valid loss:0.3404 valid acc:0.9091\n",
      "Epoch:45 / 100, train loss:0.0287,        train_acc:0.9909, valid loss:0.3458 valid acc:0.9127\n",
      "Epoch:46 / 100, train loss:0.0313,        train_acc:0.9900, valid loss:0.3458 valid acc:0.9137\n",
      "model saved!\n",
      "Epoch:47 / 100, train loss:0.0269,        train_acc:0.9920, valid loss:0.3475 valid acc:0.9134\n",
      "Epoch:48 / 100, train loss:0.0283,        train_acc:0.9913, valid loss:0.3521 valid acc:0.9124\n",
      "Epoch:49 / 100, train loss:0.0245,        train_acc:0.9924, valid loss:0.3584 valid acc:0.9097\n",
      "Epoch:50 / 100, train loss:0.0253,        train_acc:0.9925, valid loss:0.3678 valid acc:0.9104\n",
      "Epoch:51 / 100, train loss:0.0263,        train_acc:0.9924, valid loss:0.3614 valid acc:0.9107\n",
      "early stopping!\n",
      "              precision    recall  f1-score   support\n",
      "\n",
      "           0       0.86      0.87      0.86       445\n",
      "           1       0.90      0.93      0.92      1100\n",
      "           2       0.89      0.87      0.88       500\n",
      "           3       0.75      0.78      0.76       140\n",
      "           4       0.93      0.93      0.93       995\n",
      "           5       0.84      0.76      0.80       279\n",
      "\n",
      "    accuracy                           0.89      3459\n",
      "   macro avg       0.86      0.86      0.86      3459\n",
      "weighted avg       0.89      0.89      0.89      3459\n",
      "\n",
      "Test acc: 0.8919\n",
      "Test acc: Case A: 0.892\n"
     ]
    },
    {
     "data": {
      "image/png": "[encoded data removed]",
      "text/plain": [
       "<Figure size 1600x400 with 2 Axes>"
      ]
     },
     "metadata": {},
     "output_type": "display_data"
    }
   ],
   "source": [
    "# Train model\n",
    "\n",
    "# This is an example training log"
   ]
  },
  {
   "cell_type": "markdown",
   "metadata": {},
   "source": [
    "## Q2: RNN for Text Classification"
   ]
  },
  {
   "cell_type": "markdown",
   "metadata": {},
   "source": [
    "Define a RNN model (LSTM or GRU) to classify emotion. Then you train the model as before.\n",
    "\n",
    "Your test macro F1 score should be around 80%"
   ]
  },
  {
   "cell_type": "markdown",
   "metadata": {},
   "source": [
    "### Model"
   ]
  },
  {
   "cell_type": "code",
   "execution_count": 68,
   "metadata": {},
   "outputs": [],
   "source": [
    "class rnn_text(nn.Module):\n",
    "\n",
    "  # Define the model"
   ]
  },
  {
   "cell_type": "markdown",
   "metadata": {},
   "source": [
    "### Train"
   ]
  },
  {
   "cell_type": "code",
   "execution_count": null,
   "metadata": {},
   "outputs": [],
   "source": [
    "# Train model"
   ]
  },
  {
   "cell_type": "markdown",
   "metadata": {},
   "source": [
    "## Q3: RNN-CNN for Text Classification"
   ]
  },
  {
   "cell_type": "markdown",
   "metadata": {},
   "source": [
    "Modify your model in Q1 to add a RNN layer before CNN. Train the model.\n",
    "\n",
    "Your test macro F1 should be around 85%."
   ]
  },
  {
   "cell_type": "code",
   "execution_count": 72,
   "metadata": {},
   "outputs": [],
   "source": [
    "class rnn_cnn_text(nn.Module):\n",
    "\n",
    "    \n",
    "     # Add your code"
   ]
  },
  {
   "cell_type": "code",
   "execution_count": null,
   "metadata": {},
   "outputs": [],
   "source": [
    "# Train model"
   ]
  },
  {
   "cell_type": "markdown",
   "metadata": {},
   "source": [
    "## Q4 (Bonus)"
   ]
  },
  {
   "cell_type": "markdown",
   "metadata": {},
   "source": [
    "So far you have initialized the embedding layer randomly and trained the word embedding from scratch. A recommended practice is to use pretrained word vectors. Choose a pretrained word vectors (e.g., glove, BERT) and redo Q1-3. Your objective is to increase the test macro F1 by at least 2%.\n",
    "\n",
    "Please answer the following questions:\n",
    "- Which pretrained embeddings works the best?\n",
    "- Which model benefits significantly from  the pretrained embedding?\n",
    "- How did you use the pretrained embedding? Use it as-is or allow fine tunning?"
   ]
  },
  {
   "cell_type": "code",
   "execution_count": null,
   "metadata": {},
   "outputs": [],
   "source": []
  }
 ],
 "metadata": {
  "kernelspec": {
   "display_name": "pytorch",
   "language": "python",
   "name": "pytorch"
  },
  "language_info": {
   "codemirror_mode": {
    "name": "ipython",
    "version": 3
   },
   "file_extension": ".py",
   "mimetype": "text/x-python",
   "name": "python",
   "nbconvert_exporter": "python",
   "pygments_lexer": "ipython3",
   "version": "3.10.9"
  }
 },
 "nbformat": 4,
 "nbformat_minor": 4
}
